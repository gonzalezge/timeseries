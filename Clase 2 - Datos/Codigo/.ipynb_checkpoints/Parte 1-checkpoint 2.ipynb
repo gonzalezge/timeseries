{
 "cells": [
  {
   "cell_type": "markdown",
   "metadata": {},
   "source": [
    "# **Análisis espacial de datos y sus aplicaciones en Python**"
   ]
  },
  {
   "cell_type": "markdown",
   "metadata": {},
   "source": [
    "# Parte 1 - Puntos, línea & polígonos"
   ]
  },
  {
   "cell_type": "code",
   "execution_count": 1,
   "metadata": {},
   "outputs": [],
   "source": [
    "# !pip3 install geopandas\n",
    "# !pip3 install shapely\n",
    "# !pip3 install numpy\n",
    "# !pip3 install folium\n",
    "# !pip3 install geojson\n",
    "# !pip3 install branca\n",
    "# !pip3 install branca\n",
    "\n",
    "\n",
    "from shapely import geometry, ops\n",
    "import numpy as np\n",
    "import shapely.geometry as shg\n",
    "from shapely.geometry.polygon import Polygon\n",
    "from shapely.geometry import Point\n",
    "import random\n",
    "import pandas as pd\n",
    "import geopandas as gpd\n",
    "import folium\n",
    "import json\n",
    "import geojson\n",
    "from shapely.ops import cascaded_union\n",
    "import branca\n",
    "import re\n",
    "import string\n",
    "import unicodedata\n",
    "\n",
    "\n"
   ]
  },
  {
   "cell_type": "markdown",
   "metadata": {},
   "source": [
    "# A. Figuras "
   ]
  },
  {
   "cell_type": "markdown",
   "metadata": {},
   "source": [
    "## 1. Punto"
   ]
  },
  {
   "cell_type": "markdown",
   "metadata": {},
   "source": [
    "El objeto construido representa un punto en la superficie terrestre. Este está compuesto por una latitud y una longitud.\n"
   ]
  },
  {
   "cell_type": "code",
   "execution_count": 2,
   "metadata": {},
   "outputs": [],
   "source": [
    "Punto_geojson = { \"type\": \"Point\", \n",
    "    \"coordinates\": [-74.067054,4.600158]\n",
    "}"
   ]
  },
  {
   "cell_type": "code",
   "execution_count": 3,
   "metadata": {},
   "outputs": [],
   "source": [
    "Latitud = 4.600158\n",
    "Longitud = -74.067054"
   ]
  },
  {
   "cell_type": "code",
   "execution_count": 4,
   "metadata": {},
   "outputs": [],
   "source": [
    "Punto_bogota = Point(Latitud, Longitud)"
   ]
  },
  {
   "cell_type": "markdown",
   "metadata": {},
   "source": [
    "## Forma 1: Geojson"
   ]
  },
  {
   "cell_type": "code",
   "execution_count": 5,
   "metadata": {},
   "outputs": [
    {
     "data": {
      "text/plain": [
       "<folium.map.LayerControl at 0x11b80cf10>"
      ]
     },
     "execution_count": 5,
     "metadata": {},
     "output_type": "execute_result"
    }
   ],
   "source": [
    "mapa = folium.Map(location=[Latitud,Longitud],zoom_start=15,tiles='cartodbpositron')\n",
    "\n",
    "### --- Geojson -- ### \n",
    "folium.GeoJson(Punto_geojson,name='Capa geojson').add_to(mapa)\n",
    "\n",
    "    \n",
    "### --- Diferents tile formats --- ### \n",
    "folium.TileLayer('Stamen Terrain').add_to(mapa)\n",
    "folium.TileLayer('openstreetmap').add_to(mapa)\n",
    "folium.TileLayer('Mapbox Bright').add_to(mapa)\n",
    "folium.TileLayer('Mapbox Control Room').add_to(mapa)\n",
    "folium.TileLayer('Stamen Toner').add_to(mapa)\n",
    "\n",
    "\n",
    "folium.LayerControl().add_to(mapa)"
   ]
  },
  {
   "cell_type": "markdown",
   "metadata": {},
   "source": [
    "## Forma 2: Marcador"
   ]
  },
  {
   "cell_type": "code",
   "execution_count": 10,
   "metadata": {},
   "outputs": [
    {
     "data": {
      "text/plain": [
       "<folium.map.Marker at 0x108a4ced0>"
      ]
     },
     "execution_count": 10,
     "metadata": {},
     "output_type": "execute_result"
    }
   ],
   "source": [
    "mapa = folium.Map(location=[Latitud,Longitud],zoom_start=15,tiles='cartodbpositron')\n",
    "\n",
    "### ------- Agregar una marca de un punto a un mapa ------ ######## \n",
    "icon = folium.features.CustomIcon('https://upload.wikimedia.org/wikipedia/commons/4/47/University_of_Los_Andes_logo.svg',icon_size=(50,50)) \n",
    "\n",
    "\n",
    "html_format = ''' <center> <h1> Universidad de los Andes </h1> </center>'''\n",
    "popup = folium.Popup(html=folium.IFrame(html=html_format,width='800px',height='480px'), max_width=1000,parse_html=True)\n",
    "\n",
    "folium.Marker(\n",
    "    [Latitud,Longitud],icon=icon,\n",
    "    popup=popup\n",
    ").add_to(mapa)\n",
    "\n",
    "#mapa"
   ]
  },
  {
   "cell_type": "code",
   "execution_count": 11,
   "metadata": {},
   "outputs": [
    {
     "data": {
      "text/html": [
       "<div style=\"width:100%;\"><div style=\"position:relative;width:100%;height:0;padding-bottom:60%;\"><span style=\"color:#565656\">Make this Notebook Trusted to load map: File -> Trust Notebook</span><iframe src=\"about:blank\" style=\"position:absolute;width:100%;height:100%;left:0;top:0;border:none !important;\" data-html=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 onload=\"this.contentDocument.open();this.contentDocument.write(atob(this.getAttribute('data-html')));this.contentDocument.close();\" allowfullscreen webkitallowfullscreen mozallowfullscreen></iframe></div></div>"
      ],
      "text/plain": [
       "<folium.folium.Map at 0x11b8793d0>"
      ]
     },
     "execution_count": 11,
     "metadata": {},
     "output_type": "execute_result"
    }
   ],
   "source": [
    "mapa"
   ]
  },
  {
   "cell_type": "markdown",
   "metadata": {},
   "source": [
    "## 2. Multi punto "
   ]
  },
  {
   "cell_type": "markdown",
   "metadata": {},
   "source": [
    "Estructura "
   ]
  },
  {
   "cell_type": "code",
   "execution_count": 8,
   "metadata": {},
   "outputs": [],
   "source": [
    "Multiples_puntos = { \"type\": \"MultiPoint\", \n",
    "    \"coordinates\": [[-74.07419209899996, 4.836546038000051],\n",
    " [-74.07401214999999, 4.836470460000044],\n",
    " [-74.07397948799996, 4.836456742000053],\n",
    " [-74.07370733999994, 4.836316417000035],\n",
    " [-74.07335865799996, 4.836052776000031],\n",
    " [-74.07297595099999, 4.8357593710000515],\n",
    " [-74.07269530499997, 4.8355042330000515],\n",
    " [-74.07249119299996, 4.835308632000022],\n",
    " [-74.07229559099994, 4.835108773000059],\n",
    " [-74.07207872499998, 4.834879151000052]]\n",
    "}"
   ]
  },
  {
   "cell_type": "markdown",
   "metadata": {},
   "source": [
    "## Representación"
   ]
  },
  {
   "cell_type": "code",
   "execution_count": 9,
   "metadata": {},
   "outputs": [
    {
     "data": {
      "text/plain": [
       "<folium.features.GeoJson at 0x12608e2d0>"
      ]
     },
     "execution_count": 9,
     "metadata": {},
     "output_type": "execute_result"
    }
   ],
   "source": [
    "mapa = folium.Map(location=[4.836546038000051,-74.07419209899996],zoom_start=20,tiles='cartodbpositron')\n",
    "\n",
    "######## ---------- Puntos ------ #######\n",
    "folium.GeoJson(Multiples_puntos).add_to(mapa)"
   ]
  },
  {
   "cell_type": "markdown",
   "metadata": {},
   "source": [
    "# 3 línea "
   ]
  },
  {
   "cell_type": "markdown",
   "metadata": {},
   "source": [
    "El objeto LineString construido representa una o más splines lineales conectadas entre los puntos. Un LineString puede cruzarse (es decir, ser complejo y no simple).\n"
   ]
  },
  {
   "cell_type": "code",
   "execution_count": 10,
   "metadata": {},
   "outputs": [],
   "source": [
    "Linea_puntos = { \"type\": \"LineString\", \n",
    "    \"coordinates\": [[-74.07419209899996, 4.836546038000051],\n",
    " [-74.07401214999999, 4.836470460000044],\n",
    " [-74.07397948799996, 4.836456742000053],\n",
    " [-74.07370733999994, 4.836316417000035],\n",
    " [-74.07335865799996, 4.836052776000031],\n",
    " [-74.07297595099999, 4.8357593710000515],\n",
    " [-74.07269530499997, 4.8355042330000515],\n",
    " [-74.07249119299996, 4.835308632000022],\n",
    " [-74.07229559099994, 4.835108773000059],\n",
    " [-74.07207872499998, 4.834879151000052]]\n",
    "}"
   ]
  },
  {
   "cell_type": "code",
   "execution_count": 11,
   "metadata": {},
   "outputs": [
    {
     "data": {
      "text/plain": [
       "<folium.features.GeoJson at 0x1260b7110>"
      ]
     },
     "execution_count": 11,
     "metadata": {},
     "output_type": "execute_result"
    }
   ],
   "source": [
    "mapa = folium.Map(location=[4.836546038000051,-74.072],zoom_start=20,tiles='cartodbpositron')\n",
    "\n",
    "######## ---------- Puntos ------ #######\n",
    "folium.GeoJson(Linea_puntos).add_to(mapa)"
   ]
  },
  {
   "cell_type": "code",
   "execution_count": 12,
   "metadata": {},
   "outputs": [],
   "source": [
    "Multilinea = { \"type\": \"MultiLineString\", \n",
    "    \"coordinates\": [\n",
    "        [[-74.07419209899996, 4.836546038000051],\n",
    " [-74.07401214999999, 4.836470460000044],\n",
    " [-74.07397948799996, 4.836456742000053],\n",
    " [-74.07370733999994, 4.836316417000035],\n",
    " [-74.07335865799996, 4.836052776000031],\n",
    " [-74.07297595099999, 4.8357593710000515],\n",
    " [-74.07269530499997, 4.8355042330000515],\n",
    " [-74.07249119299996, 4.835308632000022],\n",
    " [-74.07229559099994, 4.835108773000059],\n",
    " [-74.07207872499998, 4.834879151000052]], \n",
    "        [[-74.07, 4.836546038000051],\n",
    " [-74.07, 4.836470460000044],\n",
    " [-74.07, 4.836456742000053],\n",
    " [-74.07, 4.836316417000035],\n",
    " [-74.07, 4.836052776000031],\n",
    " [-74.07, 4.8357593710000515],\n",
    " [-74.07, 4.8355042330000515],\n",
    " [-74.07, 4.835308632000022],\n",
    " [-74.07, 4.835108773000059],\n",
    " [-74.07, 4.834879151000052]]\n",
    "    ]\n",
    "}"
   ]
  },
  {
   "cell_type": "code",
   "execution_count": 13,
   "metadata": {},
   "outputs": [
    {
     "data": {
      "text/plain": [
       "<folium.features.GeoJson at 0x1260c66d0>"
      ]
     },
     "execution_count": 13,
     "metadata": {},
     "output_type": "execute_result"
    }
   ],
   "source": [
    "mapa = folium.Map(location=[4.836546038000051,-74.072],zoom_start=20,tiles='cartodbpositron')\n",
    "\n",
    "######## ---------- Puntos ------ #######\n",
    "folium.GeoJson(Multilinea).add_to(mapa)"
   ]
  },
  {
   "cell_type": "markdown",
   "metadata": {},
   "source": [
    "# 4. Polígono\n",
    "\n",
    "El objeto construido representa una figura geométrica plana compuesta por una secuencia finita de segmentos rectos consecutivos que encierran una región en el plano."
   ]
  },
  {
   "cell_type": "code",
   "execution_count": 4,
   "metadata": {},
   "outputs": [],
   "source": [
    "Poligono = {\"type\": \"Polygon\",\"coordinates\": [[[-74.098062, 4.739282], [-74.097989, 4.739255], \n",
    "                                          [-74.097986, 4.739254], [-74.098152, 4.738795], \n",
    "                                          [-74.098228, 4.738822], [-74.098241, 4.738827], \n",
    "                                          [-74.098253, 4.738832], [-74.098279, 4.738841], \n",
    "                                          [-74.098286, 4.738844], [-74.098355, 4.73887], \n",
    "                                          [-74.098355, 4.73887], [-74.09836, 4.738871], \n",
    "                                          [-74.098406, 4.738888], [-74.098438, 4.738899], \n",
    "                                          [-74.098457, 4.738906],\n",
    "                                          [-74.09846, 4.738907], [-74.09846, 4.738907], [-74.09846, 4.738907], \n",
    "                                          [-74.098454, 4.738922], [-74.09845, 4.738934], [-74.09844, 4.73896], [-74.09843, 4.738985], [-74.098428, 4.738992], \n",
    "                                          [-74.098401, 4.739061], [-74.098401, 4.739061], [-74.0984, 4.739064], [-74.0984, 4.739066], [-74.098386, 4.739105],\n",
    "                                          [-74.098385, 4.739111], [-74.098375, 4.739136], [-74.098359, 4.73918], [-74.098347, 4.739212], [-74.098334, 4.739244], \n",
    "                                          [-74.098309, 4.739314], [-74.098212, 4.739279], [-74.09821, 4.739278], [-74.098207, 4.739277], [-74.09819, 4.739325], \n",
    "                                          [-74.098189, 4.739328], [-74.098166, 4.73932], [-74.098158, 4.739317], [-74.098134, 4.739308], [-74.098091, 4.739292], \n",
    "                                          [-74.098087, 4.739291], [-74.098078, 4.739287], [-74.098075, 4.739286], [-74.098065, 4.739283], [-74.098062, 4.739282]]]}"
   ]
  },
  {
   "cell_type": "code",
   "execution_count": 5,
   "metadata": {},
   "outputs": [
    {
     "data": {
      "text/plain": [
       "<folium.features.GeoJson at 0x118330e50>"
      ]
     },
     "execution_count": 5,
     "metadata": {},
     "output_type": "execute_result"
    }
   ],
   "source": [
    "mapa = folium.Map(location=[4.739282,-74.098062],zoom_start=22,tiles='cartodbpositron')\n",
    "\n",
    "######## ---------- Puntos ------ #######\n",
    "folium.GeoJson(Poligono).add_to(mapa)"
   ]
  },
  {
   "cell_type": "code",
   "execution_count": 7,
   "metadata": {},
   "outputs": [
    {
     "data": {
      "text/plain": [
       "{'type': 'Polygon',\n",
       " 'coordinates': [[[-74.098062, 4.739282],\n",
       "   [-74.097989, 4.739255],\n",
       "   [-74.097986, 4.739254],\n",
       "   [-74.098152, 4.738795],\n",
       "   [-74.098228, 4.738822],\n",
       "   [-74.098241, 4.738827],\n",
       "   [-74.098253, 4.738832],\n",
       "   [-74.098279, 4.738841],\n",
       "   [-74.098286, 4.738844],\n",
       "   [-74.098355, 4.73887],\n",
       "   [-74.098355, 4.73887],\n",
       "   [-74.09836, 4.738871],\n",
       "   [-74.098406, 4.738888],\n",
       "   [-74.098438, 4.738899],\n",
       "   [-74.098457, 4.738906],\n",
       "   [-74.09846, 4.738907],\n",
       "   [-74.09846, 4.738907],\n",
       "   [-74.09846, 4.738907],\n",
       "   [-74.098454, 4.738922],\n",
       "   [-74.09845, 4.738934],\n",
       "   [-74.09844, 4.73896],\n",
       "   [-74.09843, 4.738985],\n",
       "   [-74.098428, 4.738992],\n",
       "   [-74.098401, 4.739061],\n",
       "   [-74.098401, 4.739061],\n",
       "   [-74.0984, 4.739064],\n",
       "   [-74.0984, 4.739066],\n",
       "   [-74.098386, 4.739105],\n",
       "   [-74.098385, 4.739111],\n",
       "   [-74.098375, 4.739136],\n",
       "   [-74.098359, 4.73918],\n",
       "   [-74.098347, 4.739212],\n",
       "   [-74.098334, 4.739244],\n",
       "   [-74.098309, 4.739314],\n",
       "   [-74.098212, 4.739279],\n",
       "   [-74.09821, 4.739278],\n",
       "   [-74.098207, 4.739277],\n",
       "   [-74.09819, 4.739325],\n",
       "   [-74.098189, 4.739328],\n",
       "   [-74.098166, 4.73932],\n",
       "   [-74.098158, 4.739317],\n",
       "   [-74.098134, 4.739308],\n",
       "   [-74.098091, 4.739292],\n",
       "   [-74.098087, 4.739291],\n",
       "   [-74.098078, 4.739287],\n",
       "   [-74.098075, 4.739286],\n",
       "   [-74.098065, 4.739283],\n",
       "   [-74.098062, 4.739282]]]}"
      ]
     },
     "execution_count": 7,
     "metadata": {},
     "output_type": "execute_result"
    }
   ],
   "source": [
    "Poligono"
   ]
  },
  {
   "cell_type": "markdown",
   "metadata": {},
   "source": [
    "## B. Operaciones Figuras"
   ]
  },
  {
   "cell_type": "code",
   "execution_count": 48,
   "metadata": {},
   "outputs": [],
   "source": [
    "File= 'MPM_FuenteCensal_2018.shp'\n",
    "Datos_dane = gpd.read_file(File)\n",
    "#### ---  EPSG:4326 -> WGS84 ---- ## \n",
    "# Re proyectar las figuras a un sistema epsg \n",
    "Datos_dane.to_crs(epsg=4326, inplace=True)\n",
    "\n"
   ]
  },
  {
   "cell_type": "code",
   "execution_count": 227,
   "metadata": {},
   "outputs": [
    {
     "data": {
      "text/plain": [
       "\u001b[0;31mSignature:\u001b[0m \u001b[0mDatos_dane\u001b[0m\u001b[0;34m.\u001b[0m\u001b[0mto_crs\u001b[0m\u001b[0;34m(\u001b[0m\u001b[0mcrs\u001b[0m\u001b[0;34m=\u001b[0m\u001b[0;32mNone\u001b[0m\u001b[0;34m,\u001b[0m \u001b[0mepsg\u001b[0m\u001b[0;34m=\u001b[0m\u001b[0;32mNone\u001b[0m\u001b[0;34m,\u001b[0m \u001b[0minplace\u001b[0m\u001b[0;34m=\u001b[0m\u001b[0;32mFalse\u001b[0m\u001b[0;34m)\u001b[0m\u001b[0;34m\u001b[0m\u001b[0;34m\u001b[0m\u001b[0m\n",
       "\u001b[0;31mDocstring:\u001b[0m\n",
       "Transform geometries to a new coordinate reference system.\n",
       "\n",
       "Transform all geometries in a GeoSeries to a different coordinate\n",
       "reference system.  The ``crs`` attribute on the current GeoSeries must\n",
       "be set.  Either ``crs`` or ``epsg`` may be specified for output.\n",
       "\n",
       "This method will transform all points in all objects.  It has no notion\n",
       "or projecting entire geometries.  All segments joining points are\n",
       "assumed to be lines in the current projection, not geodesics.  Objects\n",
       "crossing the dateline (or other projection boundary) will have\n",
       "undesirable behavior.\n",
       "\n",
       "Parameters\n",
       "----------\n",
       "crs : pyproj.CRS, optional if `epsg` is specified\n",
       "    The value can be anything accepted\n",
       "    by :meth:`pyproj.CRS.from_user_input`, such as an authority\n",
       "    string (eg \"EPSG:4326\") or a WKT string.\n",
       "epsg : int, optional if `crs` is specified\n",
       "    EPSG code specifying output projection.\n",
       "inplace : bool, optional, default: False\n",
       "    Whether to return a new GeoDataFrame or do the transformation in\n",
       "    place.\n",
       "\u001b[0;31mFile:\u001b[0m      ~/.pyenv/versions/3.7.5/envs/clase/lib/python3.7/site-packages/geopandas/geodataframe.py\n",
       "\u001b[0;31mType:\u001b[0m      method\n"
      ]
     },
     "metadata": {},
     "output_type": "display_data"
    }
   ],
   "source": [
    "?Datos_dane.to_crs"
   ]
  },
  {
   "cell_type": "code",
   "execution_count": 17,
   "metadata": {},
   "outputs": [],
   "source": [
    "#### -------- Solo nos concentramos en las variables geográficas --- ######\n",
    "Datos_dane=Datos_dane[['MPIO_CCNCT','DPTO_CNMBR','MPIO_CNMBR','geometry']]\n",
    "#### ---------- Cambiamos el nombre --------- ######### \n",
    "Datos_dane.columns = ['Codigo','Departamento','Municipio','Figura']"
   ]
  },
  {
   "cell_type": "code",
   "execution_count": 61,
   "metadata": {},
   "outputs": [],
   "source": [
    "Datos_dane.columns = ['Codigo','Departamento','Municipio','Figura']"
   ]
  },
  {
   "cell_type": "markdown",
   "metadata": {},
   "source": [
    "## Eliminamos las tildes de los nombres que componen el mapa "
   ]
  },
  {
   "cell_type": "code",
   "execution_count": 67,
   "metadata": {},
   "outputs": [],
   "source": [
    "def Arreglar_tilde(Texto):\n",
    "    Texto = unicodedata.normalize('NFD', Texto)\n",
    "    Texto = Texto.encode('ascii', 'ignore')\n",
    "    Texto = Texto.decode(\"utf-8\")\n",
    "    return(Texto)"
   ]
  },
  {
   "cell_type": "code",
   "execution_count": 74,
   "metadata": {},
   "outputs": [
    {
     "name": "stderr",
     "output_type": "stream",
     "text": [
      "/Users/germangonzalez/.pyenv/versions/3.7.5/envs/clase/lib/python3.7/site-packages/ipykernel_launcher.py:2: SettingWithCopyWarning: \n",
      "A value is trying to be set on a copy of a slice from a DataFrame.\n",
      "Try using .loc[row_indexer,col_indexer] = value instead\n",
      "\n",
      "See the caveats in the documentation: https://pandas.pydata.org/pandas-docs/stable/user_guide/indexing.html#returning-a-view-versus-a-copy\n",
      "  \n",
      "/Users/germangonzalez/.pyenv/versions/3.7.5/envs/clase/lib/python3.7/site-packages/ipykernel_launcher.py:4: SettingWithCopyWarning: \n",
      "A value is trying to be set on a copy of a slice from a DataFrame.\n",
      "Try using .loc[row_indexer,col_indexer] = value instead\n",
      "\n",
      "See the caveats in the documentation: https://pandas.pydata.org/pandas-docs/stable/user_guide/indexing.html#returning-a-view-versus-a-copy\n",
      "  after removing the cwd from sys.path.\n"
     ]
    }
   ],
   "source": [
    "###### -------- Para Departamento ------- ######\n",
    "Datos_dane['Departamento'] = Datos_dane['Departamento'].apply(lambda x: Arreglar_tilde(Texto=x))\n",
    "###### -------- Para Municipio ------- ######\n",
    "Datos_dane['Municipio'] = Datos_dane['Municipio'].apply(lambda x: Arreglar_tilde(Texto=x))"
   ]
  },
  {
   "cell_type": "markdown",
   "metadata": {},
   "source": [
    "Nos concentramos en el Polígono de Bogotá"
   ]
  },
  {
   "cell_type": "code",
   "execution_count": 86,
   "metadata": {},
   "outputs": [],
   "source": [
    "Bogota_shape = Datos_dane[Datos_dane['Municipio'].str.contains('BOG')]"
   ]
  },
  {
   "cell_type": "code",
   "execution_count": 91,
   "metadata": {},
   "outputs": [],
   "source": [
    "### ---- Polígono ---- #\n",
    "Bogota_poligono = Bogota_shape['Figura'].iloc[0]"
   ]
  },
  {
   "cell_type": "markdown",
   "metadata": {},
   "source": [
    "## Shape a Geojson"
   ]
  },
  {
   "cell_type": "code",
   "execution_count": 103,
   "metadata": {},
   "outputs": [],
   "source": [
    "#### ------ Crear geojson ----- ###### \n",
    "geojson_bogota = geojson.Feature(geometry=Bogota_poligono)\n",
    "### ----- Organizar la estructura ---- ###\n",
    "geo_str = json.dumps(geojson_bogota) \n",
    "####### ------- Cargarlo ----- #######\n",
    "geo_str = json.loads(geo_str)"
   ]
  },
  {
   "cell_type": "code",
   "execution_count": 1,
   "metadata": {},
   "outputs": [
    {
     "ename": "NameError",
     "evalue": "name 'folium' is not defined",
     "output_type": "error",
     "traceback": [
      "\u001b[0;31m---------------------------------------------------------------------------\u001b[0m",
      "\u001b[0;31mNameError\u001b[0m                                 Traceback (most recent call last)",
      "\u001b[0;32m<ipython-input-1-64af6acac3db>\u001b[0m in \u001b[0;36m<module>\u001b[0;34m\u001b[0m\n\u001b[0;32m----> 1\u001b[0;31m \u001b[0mMapa\u001b[0m \u001b[0;34m=\u001b[0m \u001b[0mfolium\u001b[0m\u001b[0;34m.\u001b[0m\u001b[0mMap\u001b[0m\u001b[0;34m(\u001b[0m\u001b[0mlocation\u001b[0m\u001b[0;34m=\u001b[0m\u001b[0;34m[\u001b[0m\u001b[0;36m4.316107698094774\u001b[0m\u001b[0;34m,\u001b[0m\u001b[0;34m-\u001b[0m\u001b[0;36m74.18107270162268\u001b[0m\u001b[0;34m]\u001b[0m\u001b[0;34m,\u001b[0m\u001b[0mzoom_start\u001b[0m\u001b[0;34m=\u001b[0m\u001b[0;36m9\u001b[0m\u001b[0;34m,\u001b[0m\u001b[0mtiles\u001b[0m\u001b[0;34m=\u001b[0m\u001b[0;34m'cartodbpositron'\u001b[0m\u001b[0;34m)\u001b[0m\u001b[0;34m\u001b[0m\u001b[0;34m\u001b[0m\u001b[0m\n\u001b[0m\u001b[1;32m      2\u001b[0m \u001b[0;34m\u001b[0m\u001b[0m\n\u001b[1;32m      3\u001b[0m \u001b[0;31m####----- Agregamos la capa geojson ---- #####\u001b[0m\u001b[0;34m\u001b[0m\u001b[0;34m\u001b[0m\u001b[0;34m\u001b[0m\u001b[0m\n\u001b[1;32m      4\u001b[0m folium.GeoJson(geo_str,\n\u001b[1;32m      5\u001b[0m style_function=lambda feature: {\n",
      "\u001b[0;31mNameError\u001b[0m: name 'folium' is not defined"
     ]
    }
   ],
   "source": [
    "Mapa = folium.Map(location=[4.316107698094774,-74.18107270162268],zoom_start=9,tiles='cartodbpositron')\n",
    "\n",
    "####----- Agregamos la capa geojson ---- #####\n",
    "folium.GeoJson(geo_str,\n",
    "style_function=lambda feature: {\n",
    "    'fillColor': 'gray',\n",
    "    'color': '#7d868c',\n",
    "    'weight': 1,\n",
    "    'fillOpacity':0.2,\n",
    "},\n",
    "highlight_function=lambda x: {'weight':10,'fillColor':'#fec821','color': '#fec821'},tooltip='Bogota',\n",
    "name='Capa ').add_to(Mapa)\n",
    "\n",
    "folium.LayerControl().add_to(Mapa)\n"
   ]
  },
  {
   "cell_type": "markdown",
   "metadata": {},
   "source": [
    "## Buffer\n",
    "\n",
    "Crea una nueva capa que recubre este en una zona de influencia cuyo radio es el indicado en la herramienta de análisis. Muestran el área que está dentro de cierta distancia del polígono de entrada.     \n",
    "\n",
    "Particularmente permite obtener nueva información para determinar qué elementos geográficos se encuentran dentro de un área de influencia determinada. "
   ]
  },
  {
   "cell_type": "code",
   "execution_count": 133,
   "metadata": {},
   "outputs": [],
   "source": [
    "Buffering = Bogota_poligono.buffer(1)"
   ]
  },
  {
   "cell_type": "code",
   "execution_count": 134,
   "metadata": {},
   "outputs": [
    {
     "data": {
      "text/plain": [
       "<folium.map.LayerControl at 0x1263af890>"
      ]
     },
     "execution_count": 134,
     "metadata": {},
     "output_type": "execute_result"
    }
   ],
   "source": [
    "Mapa = folium.Map(location=[4.316107698094774,-74.18107270162268],zoom_start=9,tiles='cartodbpositron')\n",
    "\n",
    "geo_str = json.loads(json.dumps(geojson.Feature(geometry=Buffering)) )\n",
    "####----- Agregamos la capa geojson ---- #####\n",
    "folium.GeoJson(geo_str,\n",
    "style_function=lambda feature: {\n",
    "    'fillColor': 'gray',\n",
    "    'color': '#7d868c',\n",
    "    'weight': 1,\n",
    "    'fillOpacity':0.2,\n",
    "},\n",
    "highlight_function=lambda x: {'weight':10,'fillColor':'#fec821','color': '#fec821'},tooltip='Bogota',\n",
    "name='Capa Buffer').add_to(Mapa)\n",
    "\n",
    "folium.LayerControl().add_to(Mapa)\n",
    "\n"
   ]
  },
  {
   "cell_type": "markdown",
   "metadata": {},
   "source": [
    "## Unión "
   ]
  },
  {
   "cell_type": "code",
   "execution_count": 136,
   "metadata": {},
   "outputs": [],
   "source": [
    "CASANARE = Datos_dane[Datos_dane['Departamento'] == 'CASANARE']"
   ]
  },
  {
   "cell_type": "code",
   "execution_count": 27,
   "metadata": {},
   "outputs": [],
   "source": [
    "#### ------ Se unen todos los municipios de casanare ----- #### "
   ]
  },
  {
   "cell_type": "code",
   "execution_count": 143,
   "metadata": {},
   "outputs": [],
   "source": [
    "Departamento_casanare = cascaded_union(CASANARE['Figura']).buffer(0)"
   ]
  },
  {
   "cell_type": "markdown",
   "metadata": {},
   "source": [
    "## Centro"
   ]
  },
  {
   "cell_type": "code",
   "execution_count": 151,
   "metadata": {},
   "outputs": [],
   "source": [
    "Centro_casanare = Departamento_casanare.centroid"
   ]
  },
  {
   "cell_type": "code",
   "execution_count": 154,
   "metadata": {},
   "outputs": [],
   "source": [
    "Cordenadas_centro = Centro_casanare.coords[0]"
   ]
  },
  {
   "cell_type": "code",
   "execution_count": 166,
   "metadata": {},
   "outputs": [
    {
     "data": {
      "text/plain": [
       "<folium.map.LayerControl at 0x126d7bcd0>"
      ]
     },
     "execution_count": 166,
     "metadata": {},
     "output_type": "execute_result"
    }
   ],
   "source": [
    "Mapa = folium.Map(location=[Cordenadas_centro[1],Cordenadas_centro[0]],zoom_start=9,tiles='cartodbpositron')\n",
    "\n",
    "geo_str = json.loads(json.dumps(geojson.Feature(geometry=Departamento_casanare)) )\n",
    "####----- Agregamos la capa geojson ---- #####\n",
    "folium.GeoJson(geo_str,\n",
    "style_function=lambda feature: {\n",
    "    'fillColor': 'gray',\n",
    "    'color': '#7d868c',\n",
    "    'weight': 1,\n",
    "    'fillOpacity':0.2,\n",
    "},\n",
    "highlight_function=lambda x: {'weight':10,'fillColor':'#fec821','color': '#fec821'},tooltip='Casanare',\n",
    "name='Capa Casanare').add_to(Mapa)\n",
    "\n",
    "folium.LayerControl().add_to(Mapa)\n",
    "\n"
   ]
  },
  {
   "cell_type": "markdown",
   "metadata": {},
   "source": [
    "## Intersección"
   ]
  },
  {
   "cell_type": "code",
   "execution_count": 32,
   "metadata": {},
   "outputs": [],
   "source": [
    "Aguazul = CASANARE.iloc[1]['Figura']\n",
    "Interseccion = Departamento_casanare.intersection(Aguazul)"
   ]
  },
  {
   "cell_type": "code",
   "execution_count": 175,
   "metadata": {},
   "outputs": [
    {
     "data": {
      "text/plain": [
       "<folium.map.LayerControl at 0x126d927d0>"
      ]
     },
     "execution_count": 175,
     "metadata": {},
     "output_type": "execute_result"
    }
   ],
   "source": [
    "Mapa = folium.Map(location=[Cordenadas_centro[1],Cordenadas_centro[0]],zoom_start=9,tiles='cartodbpositron')\n",
    "\n",
    "geo_str = json.loads(json.dumps(geojson.Feature(geometry=Interseccion)) )\n",
    "####----- Agregamos la capa geojson ---- #####\n",
    "folium.GeoJson(geo_str,\n",
    "style_function=lambda feature: {\n",
    "    'fillColor': 'gray',\n",
    "    'color': '#7d868c',\n",
    "    'weight': 1,\n",
    "    'fillOpacity':0.2,\n",
    "},\n",
    "highlight_function=lambda x: {'weight':10,'fillColor':'#fec821','color': '#fec821'},tooltip='Casanare',\n",
    "name='Capa Casanare').add_to(Mapa)\n",
    "\n",
    "folium.LayerControl().add_to(Mapa)\n",
    "\n"
   ]
  },
  {
   "cell_type": "markdown",
   "metadata": {},
   "source": [
    "## Diferencia"
   ]
  },
  {
   "cell_type": "code",
   "execution_count": 181,
   "metadata": {},
   "outputs": [
    {
     "data": {
      "text/plain": [
       "<folium.map.LayerControl at 0x126d78a10>"
      ]
     },
     "execution_count": 181,
     "metadata": {},
     "output_type": "execute_result"
    }
   ],
   "source": [
    "Differencia = Departamento_casanare.difference(Aguazul)\n",
    "\n",
    "Mapa = folium.Map(location=[Cordenadas_centro[1],Cordenadas_centro[0]],zoom_start=9,tiles='cartodbpositron')\n",
    "\n",
    "geo_str = json.loads(json.dumps(geojson.Feature(geometry=Differencia)) )\n",
    "####----- Agregamos la capa geojson ---- #####\n",
    "folium.GeoJson(geo_str,\n",
    "style_function=lambda feature: {\n",
    "    'fillColor': 'gray',\n",
    "    'color': '#7d868c',\n",
    "    'weight': 1,\n",
    "    'fillOpacity':0.2,\n",
    "},\n",
    "highlight_function=lambda x: {'weight':10,'fillColor':'#fec821','color': '#fec821'},tooltip='Casanare',\n",
    "name='Capa').add_to(Mapa)\n",
    "\n",
    "folium.LayerControl().add_to(Mapa)\n"
   ]
  },
  {
   "cell_type": "markdown",
   "metadata": {},
   "source": [
    "## Contorno exterior"
   ]
  },
  {
   "cell_type": "code",
   "execution_count": 188,
   "metadata": {},
   "outputs": [],
   "source": [
    "Contorno = Departamento_casanare.exterior"
   ]
  },
  {
   "cell_type": "code",
   "execution_count": 189,
   "metadata": {},
   "outputs": [],
   "source": [
    "##### Se construye un linestring con las cordenadas del contorno \n",
    "Contorno_exterior = { \"type\": \"LineString\", \n",
    "    \"coordinates\": [Contorno.coords[x] for x in range(0,len(Contorno.coords))]\n",
    "}\n",
    "\n"
   ]
  },
  {
   "cell_type": "code",
   "execution_count": 193,
   "metadata": {},
   "outputs": [
    {
     "data": {
      "text/plain": [
       "<folium.map.LayerControl at 0x1267ec710>"
      ]
     },
     "execution_count": 193,
     "metadata": {},
     "output_type": "execute_result"
    }
   ],
   "source": [
    "\n",
    "Mapa = folium.Map(location=[Cordenadas_centro[1],Cordenadas_centro[0]],zoom_start=9,tiles='cartodbpositron')\n",
    "####----- Agregamos la capa geojson ---- #####\n",
    "folium.GeoJson(Contorno_exterior,\n",
    "style_function=lambda feature: {\n",
    "    'fillColor': 'gray',\n",
    "    'color': '#7d868c',\n",
    "    'weight': 1,\n",
    "    'fillOpacity':0.2,\n",
    "},\n",
    "highlight_function=lambda x: {'weight':10,'fillColor':'#fec821','color': '#fec821'},tooltip='Casanare',\n",
    "name='Capa').add_to(Mapa)\n",
    "\n",
    "folium.LayerControl().add_to(Mapa)"
   ]
  },
  {
   "cell_type": "markdown",
   "metadata": {},
   "source": [
    "## Evaluación Dentro "
   ]
  },
  {
   "cell_type": "code",
   "execution_count": 203,
   "metadata": {},
   "outputs": [],
   "source": [
    "Latitude = 5.168747\n",
    "Longitude = -72.552025 \n",
    "Punto_evaluar = Point(Longitude,Latitude)"
   ]
  },
  {
   "cell_type": "markdown",
   "metadata": {},
   "source": [
    "Evaluación de punto dentro de Aguazul"
   ]
  },
  {
   "cell_type": "code",
   "execution_count": 204,
   "metadata": {},
   "outputs": [
    {
     "data": {
      "text/plain": [
       "True"
      ]
     },
     "execution_count": 204,
     "metadata": {},
     "output_type": "execute_result"
    }
   ],
   "source": [
    "Punto_evaluar.within(Aguazul)"
   ]
  },
  {
   "cell_type": "markdown",
   "metadata": {},
   "source": [
    "Evaluación de punto dentro de Aguazul"
   ]
  },
  {
   "cell_type": "code",
   "execution_count": 205,
   "metadata": {},
   "outputs": [
    {
     "data": {
      "text/plain": [
       "True"
      ]
     },
     "execution_count": 205,
     "metadata": {},
     "output_type": "execute_result"
    }
   ],
   "source": [
    "Punto_evaluar.within(Departamento_casanare)"
   ]
  },
  {
   "cell_type": "markdown",
   "metadata": {},
   "source": [
    "Evaluación de punto dentro de la differencia de Casanare - Aguazul"
   ]
  },
  {
   "cell_type": "code",
   "execution_count": 206,
   "metadata": {},
   "outputs": [
    {
     "data": {
      "text/plain": [
       "False"
      ]
     },
     "execution_count": 206,
     "metadata": {},
     "output_type": "execute_result"
    }
   ],
   "source": [
    "Punto_evaluar.within(Differencia)"
   ]
  },
  {
   "cell_type": "markdown",
   "metadata": {},
   "source": [
    "Evaluación de punto dentro de Aguazul"
   ]
  },
  {
   "cell_type": "code",
   "execution_count": 207,
   "metadata": {},
   "outputs": [
    {
     "data": {
      "text/plain": [
       "False"
      ]
     },
     "execution_count": 207,
     "metadata": {},
     "output_type": "execute_result"
    }
   ],
   "source": [
    "Punto_evaluar.within(Bogota_poligono)"
   ]
  },
  {
   "cell_type": "markdown",
   "metadata": {},
   "source": [
    "## Simplifación"
   ]
  },
  {
   "cell_type": "code",
   "execution_count": 221,
   "metadata": {},
   "outputs": [],
   "source": [
    "Bogota_simplificada = Bogota_poligono.simplify(0.5)"
   ]
  },
  {
   "cell_type": "code",
   "execution_count": 222,
   "metadata": {},
   "outputs": [
    {
     "data": {
      "text/plain": [
       "<folium.map.LayerControl at 0x126204090>"
      ]
     },
     "execution_count": 222,
     "metadata": {},
     "output_type": "execute_result"
    }
   ],
   "source": [
    "\n",
    "Mapa = folium.Map(location=[Bogota_poligono.centroid.coords[0][1],Bogota_poligono.centroid.coords[0][0]],zoom_start=9,tiles='cartodbpositron')\n",
    "\n",
    "geo_str = json.loads(json.dumps(geojson.Feature(geometry=Bogota_simplificada)) )\n",
    "####----- Agregamos la capa geojson ---- #####\n",
    "folium.GeoJson(geo_str,\n",
    "style_function=lambda feature: {\n",
    "    'fillColor': 'gray',\n",
    "    'color': '#7d868c',\n",
    "    'weight': 1,\n",
    "    'fillOpacity':0.2,\n",
    "},\n",
    "highlight_function=lambda x: {'weight':10,'fillColor':'#fec821','color': '#fec821'},tooltip='Casanare',\n",
    "name='Capa').add_to(Mapa)\n",
    "\n",
    "folium.LayerControl().add_to(Mapa)"
   ]
  },
  {
   "cell_type": "markdown",
   "metadata": {},
   "source": [
    "## Figura Convexa"
   ]
  },
  {
   "cell_type": "code",
   "execution_count": 224,
   "metadata": {},
   "outputs": [],
   "source": [
    "Casanare_convexo = Departamento_casanare.convex_hull"
   ]
  },
  {
   "cell_type": "code",
   "execution_count": 225,
   "metadata": {},
   "outputs": [
    {
     "data": {
      "text/plain": [
       "<folium.map.LayerControl at 0x1268bf8d0>"
      ]
     },
     "execution_count": 225,
     "metadata": {},
     "output_type": "execute_result"
    }
   ],
   "source": [
    "\n",
    "Mapa = folium.Map(location=[Casanare_convexo.centroid.coords[0][1],Casanare_convexo.centroid.coords[0][0]],zoom_start=9,tiles='cartodbpositron')\n",
    "\n",
    "geo_str = json.loads(json.dumps(geojson.Feature(geometry=Casanare_convexo)) )\n",
    "####----- Agregamos la capa geojson ---- #####\n",
    "folium.GeoJson(geo_str,\n",
    "style_function=lambda feature: {\n",
    "    'fillColor': 'gray',\n",
    "    'color': '#7d868c',\n",
    "    'weight': 1,\n",
    "    'fillOpacity':0.2,\n",
    "},\n",
    "highlight_function=lambda x: {'weight':10,'fillColor':'#fec821','color': '#fec821'},tooltip='Casanare',\n",
    "name='Capa').add_to(Mapa)\n",
    "\n",
    "folium.LayerControl().add_to(Mapa)"
   ]
  },
  {
   "cell_type": "code",
   "execution_count": 226,
   "metadata": {},
   "outputs": [
    {
     "data": {
      "text/html": [
       "<div style=\"width:100%;\"><div style=\"position:relative;width:100%;height:0;padding-bottom:60%;\"><span style=\"color:#565656\">Make this Notebook Trusted to load map: File -> Trust Notebook</span><iframe src=\"about:blank\" style=\"position:absolute;width:100%;height:100%;left:0;top:0;border:none !important;\" data-html=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 onload=\"this.contentDocument.open();this.contentDocument.write(atob(this.getAttribute('data-html')));this.contentDocument.close();\" allowfullscreen webkitallowfullscreen mozallowfullscreen></iframe></div></div>"
      ],
      "text/plain": [
       "<folium.folium.Map at 0x1261b3ad0>"
      ]
     },
     "execution_count": 226,
     "metadata": {},
     "output_type": "execute_result"
    }
   ],
   "source": [
    "Mapa"
   ]
  },
  {
   "cell_type": "code",
   "execution_count": null,
   "metadata": {},
   "outputs": [],
   "source": []
  }
 ],
 "metadata": {
  "kernelspec": {
   "display_name": "Python 3",
   "language": "python",
   "name": "python3"
  },
  "language_info": {
   "codemirror_mode": {
    "name": "ipython",
    "version": 3
   },
   "file_extension": ".py",
   "mimetype": "text/x-python",
   "name": "python",
   "nbconvert_exporter": "python",
   "pygments_lexer": "ipython3",
   "version": "3.7.5"
  }
 },
 "nbformat": 4,
 "nbformat_minor": 4
}
